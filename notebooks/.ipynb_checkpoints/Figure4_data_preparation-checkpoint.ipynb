{
 "cells": [
  {
   "cell_type": "code",
   "execution_count": 1,
   "metadata": {},
   "outputs": [],
   "source": [
    "%config InlineBackend.figure_format = 'retina'\n",
    "%matplotlib inline\n",
    "### Libraries \n",
    "import warnings\n",
    "warnings.filterwarnings('ignore')\n",
    "import sys\n",
    "sys.path.insert(1, '../codes/')\n",
    "from myUtils import *\n",
    "import matplotlib.pyplot as plt\n",
    "import libpysal"
   ]
  },
  {
   "cell_type": "code",
   "execution_count": 2,
   "metadata": {},
   "outputs": [],
   "source": [
    "########################## Read city file ###########################################\n",
    "#\n",
    "#\n",
    "idx = 34\n",
    "fout = '../data_revision/GEE_dataframes/gdf_%d.shp'%idx\n",
    "gdf_city  = gpd.read_file(fout)"
   ]
  },
  {
   "cell_type": "code",
   "execution_count": null,
   "metadata": {},
   "outputs": [],
   "source": []
  },
  {
   "cell_type": "code",
   "execution_count": null,
   "metadata": {},
   "outputs": [],
   "source": [
    "dfc = gpd.read_file('../data_revision/cities/all/gdfCities.shp')\n",
    "dfc = dfc.to_crs(\"EPSG:4326\")\n",
    "dfc1 = dfc[dfc.index==idx]"
   ]
  },
  {
   "cell_type": "code",
   "execution_count": null,
   "metadata": {},
   "outputs": [],
   "source": [
    "f,axs=plt.subplots(1,3,figsize=(15,10))\n",
    "\n",
    "ax=axs[0]\n",
    "gdf_city.plot(column='NDVI', cmap='Greens',ax=ax, marker='s', vmin=0, vmax=1,\n",
    "                legend=True, legend_kwds={'shrink': 0.3})\n",
    "dfc1.boundary.plot(ax=ax,color='red')\n",
    "vc = 100*gdf_city['NDVI'].sum() / len(gdf_city)\n",
    "xc = gdf_city['NDVI'].sum() \n",
    "ax.set_title('NDVI\\n Vegeted area = %d%%, NDVI = %d'%(vc, xc))\n",
    "\n",
    "ax.axis('off')\n",
    "\n",
    "ax=axs[1]\n",
    "gdf_city['ed'] = 0.5*(gdf_city['hot_days']+gdf_city['hot_nights'])/11\n",
    "gdf_city['hot_days1']=gdf_city['hot_days']/11\n",
    "gdf_city.plot(column='hot_days1', cmap='hot_r',ax=ax, marker='s', \n",
    "                legend=True,legend_kwds={'shrink': 0.3})\n",
    "dfc1.boundary.plot(ax=ax,color='blue')\n",
    "vc = gdf_city['ed'].max()\n",
    "ax.set_title('Hot days and nights\\nAverage = %d [(days+nights)/2]'%vc)\n",
    "ax.axis('off')\n",
    "\n",
    "\n",
    "gdf_city['ep'] = 0.5*gdf_city['pop']*(gdf_city['hot_days']+gdf_city['hot_nights'])\n",
    "ax=axs[2]\n",
    "gdf_city.plot(column='ep', cmap='Blues',ax=ax, marker='s', vmax=1000000, \n",
    "                legend=True, legend_kwds={'shrink': 0.3})\n",
    "vc = gdf_city['ep'].sum()/1e6 \n",
    "ax.set_title('Total Exposure\\n%dM person'%vc+r'$\\cdot$'+'days')\n",
    "dfc1.boundary.plot(ax=ax,color='red')\n",
    "ax.axis('off')\n",
    "f.tight_layout()"
   ]
  },
  {
   "cell_type": "code",
   "execution_count": null,
   "metadata": {},
   "outputs": [],
   "source": [
    "######## Most populated area of the city: i.e. where the 80% of the population live #############\n",
    "tmp = gdf_city[['pop','NDVI','geometry']]\n",
    "tmp = tmp.sort_values(['pop'], ascending=False)\n",
    "tmp['cs']   = np.cumsum(tmp['pop'])\n",
    "tmp['css']  = tmp['cs']/tmp['pop'].sum()\n",
    "tmp=tmp[tmp['css']<=0.8]                                      ###### Focus where the population live\n",
    "\n"
   ]
  },
  {
   "cell_type": "code",
   "execution_count": null,
   "metadata": {},
   "outputs": [],
   "source": [
    "f,ax=plt.subplots()\n",
    "tmp.plot(column='pop', cmap='cividis',ax=ax, marker='s',markersize=5,\n",
    "                legend=True, legend_kwds={'shrink': 0.5})\n",
    "dfc1.boundary.plot(ax=ax,color='red')\n",
    "vc = tmp['pop'].sum() \n",
    "ax.set_title('Population = %d'%vc)\n",
    "\n",
    "ax.axis('off')"
   ]
  },
  {
   "cell_type": "code",
   "execution_count": null,
   "metadata": {},
   "outputs": [],
   "source": [
    "def incrNDVI(treshold, di, gdf_city):\n",
    "    mi = treshold - di\n",
    "    #dfc1 = dfc[dfc.index==idx]\n",
    "    gdf_city['NDVI_']=gdf_city['NDVI']\n",
    "    \n",
    "    idxs1 = np.where(gdf_city['NDVI_']<mi)\n",
    "    idxs1 = list(idxs1[0])\n",
    "    \n",
    "    idxs2 = np.where((gdf_city['NDVI']>=mi) & ((gdf_city['NDVI']<treshold)))\n",
    "    idxs2 = list(idxs2[0])\n",
    "                     \n",
    "    gdf_city['DN'] = 0\n",
    "    gdf_city['DN'][idxs2]=0.85-gdf_city['NDVI'][idxs2]\n",
    "                     \n",
    "    gdf_city['NDVI_'][idxs2] = gdf_city['NDVI_'][idxs2]+gdf_city['DN'][idxs2]\n",
    "    gdf_city['NDVI_'][idxs1] = gdf_city['NDVI_'][idxs1]+di\n",
    "    \n",
    "    return gdf_city\n",
    "\n",
    "def estimate(target_var, predictor_vars, gdf_city_c, w_test, betas_):\n",
    "    y_test = gdf_city_c[target_var].values.reshape(-1, 1)\n",
    "    w_test = libpysal.weights.lag_spatial(w_, y_test)\n",
    "    x_test = gdf_city_c[predictor_vars].values\n",
    "    constant = sm.add_constant(np.hstack((x_test,np.array(w_test).reshape(-1,1))))\n",
    "    ypred_  = np.sum(constant * (betas_.T), axis=1).reshape((-1, 1))\n",
    "    return ypred_\n",
    "\n",
    "def exposure(df, col1, col2, pop):\n",
    "    return (np.sum(df[col1]*df[pop])+np.sum(df[col2]*df[pop]))/2\n",
    "\n",
    "def norm01(df, column):\n",
    "    return (df[column] - df[column].min()) / (df[column].max() - df[column].min())\n",
    "\n",
    "def estimateExposure(predictor_vars,predictor_vars1, target_vars, gdf_city, w_, betas_day, betas_night):\n",
    "    y_pred_day    = estimate(target_vars[0], predictor_vars, gdf_city, w_, betas_day)\n",
    "    y_pred_night  = estimate(target_vars[1], predictor_vars, gdf_city, w_, betas_night)\n",
    "    y_pred_day1   = estimate(target_vars[0], predictor_vars1, gdf_city, w_, betas_day)\n",
    "    y_pred_night1 = estimate(target_vars[1], predictor_vars1, gdf_city, w_, betas_night)\n",
    "    \n",
    "    gdf_city['y_day1']=y_pred_day1\n",
    "    gdf_city['y_night1']=y_pred_night1\n",
    "\n",
    "    gdf_city['y_day']=y_pred_day\n",
    "    gdf_city['y_night']=y_pred_night\n",
    "    ep1 = exposure(gdf_city, 'y_day1', 'y_night1', 'pop')\n",
    "    ep = exposure(gdf_city, 'y_day', 'y_night', 'pop')\n",
    "    \n",
    "    gdf_city['ep1'] = 0.5*gdf_city['pop']*(gdf_city['y_day1']+gdf_city['y_night1'])\n",
    "    gdf_city['ep'] = 0.5*gdf_city['pop']*(gdf_city['y_day']+gdf_city['y_night'])\n",
    "    \n",
    "    gdf_city['ed1'] = 0.5*(gdf_city['y_day1']+gdf_city['y_night1'])\n",
    "    gdf_city['ed'] = 0.5*(gdf_city['y_day']+gdf_city['y_night'])\n",
    "    \n",
    "    return ep, ep1, gdf_city\n",
    "\n",
    "\n",
    "def estimateExposure2(predictor_vars,predictor_vars2, target_vars, gdf_city, w_, betas_day, betas_night):\n",
    "    y_pred_day    = estimate(target_vars[0], predictor_vars, gdf_city, w_, betas_day)\n",
    "    y_pred_night  = estimate(target_vars[1], predictor_vars, gdf_city, w_, betas_night)\n",
    "    y_pred_day1 = estimate(target_vars[0], predictor_vars2, gdf_city, w_, betas_day)\n",
    "    y_pred_night1 = estimate(target_vars[1], predictor_vars2, gdf_city, w_, betas_night)\n",
    "    \n",
    "    gdf_city['y_day1']=y_pred_day1\n",
    "    gdf_city['y_night1']=y_pred_night1\n",
    "\n",
    "    gdf_city['y_day']=y_pred_day\n",
    "    gdf_city['y_night']=y_pred_night\n",
    "    ep1 = exposure(gdf_city, 'y_day1', 'y_night1', 'pop')\n",
    "    ep = exposure(gdf_city, 'y_day', 'y_night', 'pop')\n",
    "    \n",
    "    gdf_city['ep2'] = 0.5*gdf_city['pop']*(gdf_city['y_day1']+gdf_city['y_night1'])\n",
    "    gdf_city['ep'] = 0.5*gdf_city['pop']*(gdf_city['y_day']+gdf_city['y_night'])\n",
    "    \n",
    "    gdf_city['ed2'] = 0.5*(gdf_city['y_day1']+gdf_city['y_night1'])\n",
    "    gdf_city['ed'] = 0.5*(gdf_city['y_day']+gdf_city['y_night'])\n",
    "    \n",
    "    return ep, ep1, gdf_city"
   ]
  },
  {
   "cell_type": "code",
   "execution_count": null,
   "metadata": {},
   "outputs": [],
   "source": [
    "betas_day = np.array([3.64209653, -4.67311115, -1.16021593,  0.62546181])\n",
    "betas_night =  np.array([2.23640437, -2.68122998, -0.59718829,  0.79733414])"
   ]
  },
  {
   "cell_type": "code",
   "execution_count": null,
   "metadata": {},
   "outputs": [],
   "source": [
    "################### Try to understand ######################################################\n",
    "idx = 34\n",
    "treshold = 0.85\n",
    "di = 0.3\n",
    "fout = '../data_revision/GEE_dataframes/gdf_%d.shp'%idx\n",
    "gdf_city  = gpd.read_file(fout)\n",
    "gdf_city['hot_days']=gdf_city['hot_days']/11\n",
    "gdf_city['hot_nights']=gdf_city['hot_nights']/11\n",
    "gdf_city['dist']=-gdf_city['dist']\n",
    "gdf_city=gdf_city[gdf_city['dist']>0]\n",
    "gdf_city['dist_n'] = 1/(gdf_city['dist']**2)\n",
    "gdf_city['dist_n'] = norm01(gdf_city, 'dist_n')\n",
    "gdf_city=gdf_city.reset_index(drop=True)\n",
    "\n",
    "\n",
    "################################# Increase NDVI ##############################################\n",
    "mi = treshold - di\n",
    "#dfc1 = dfc[dfc.index==idx]\n",
    "gdf_city['NDVI_']=gdf_city['NDVI']\n",
    "\n",
    "idxs1 = np.where(gdf_city['NDVI_']<mi)\n",
    "idxs1 = list(idxs1[0])\n",
    "\n",
    "idxs2 = np.where((gdf_city['NDVI']>=mi) & ((gdf_city['NDVI']<treshold)))\n",
    "idxs2 = list(idxs2[0])\n",
    "\n",
    "gdf_city['DN'] = 0\n",
    "gdf_city['DN'][idxs2]=0.85-gdf_city['NDVI'][idxs2]\n",
    "\n",
    "gdf_city['NDVI_'][idxs2] = gdf_city['NDVI_'][idxs2]+gdf_city['DN'][idxs2]\n",
    "gdf_city['NDVI_'][idxs1] = gdf_city['NDVI_'][idxs1]+di\n",
    "\n"
   ]
  },
  {
   "cell_type": "code",
   "execution_count": null,
   "metadata": {},
   "outputs": [],
   "source": [
    "f,axs=plt.subplots(1,2)\n",
    "gdf_city.plot(column='NDVI', vmax=0.85,ax=axs[0], legend=True, cmap='Greens', legend_kwds={'shrink': 0.3})\n",
    "gdf_city.plot(column='NDVI_', vmax=0.85,ax=axs[1], legend=True, cmap='Greens', legend_kwds={'shrink': 0.3})\n",
    "f.tight_layout()"
   ]
  },
  {
   "cell_type": "code",
   "execution_count": null,
   "metadata": {},
   "outputs": [],
   "source": [
    "def estimate(target_var, predictor_vars, gdf_city_c, w_test, betas_):\n",
    "    y_test = gdf_city_c[target_var].values.reshape(-1, 1)\n",
    "    w_test = libpysal.weights.lag_spatial(w_, y_test)\n",
    "    x_test = gdf_city_c[predictor_vars].values\n",
    "    constant = sm.add_constant(np.hstack((x_test,np.array(w_test).reshape(-1,1))))\n",
    "    ypred_  = np.sum(constant * (betas_.T), axis=1).reshape((-1, 1))\n",
    "    return ypred_"
   ]
  },
  {
   "cell_type": "code",
   "execution_count": null,
   "metadata": {},
   "outputs": [],
   "source": [
    "import statsmodels.api as sm\n",
    "\n",
    "w_ = libpysal.weights.KNN.from_dataframe(gdf_city, k=8)\n",
    "w_.transform = 'r'\n",
    "y_pred_day    = estimate(target_vars[0], predictor_vars, gdf_city, w_, betas_day)\n",
    "y_pred_night  = estimate(target_vars[1], predictor_vars, gdf_city, w_, betas_night)\n",
    "y_pred_day1   = estimate(target_vars[0], predictor_vars1, gdf_city, w_, betas_day)\n",
    "y_pred_night1 = estimate(target_vars[1], predictor_vars1, gdf_city, w_, betas_night)\n",
    "\n",
    "gdf_city['y_day1']=y_pred_day1\n",
    "gdf_city['y_night1']=y_pred_night1\n",
    "\n",
    "gdf_city['y_day']=y_pred_day\n",
    "gdf_city['y_night']=y_pred_night"
   ]
  },
  {
   "cell_type": "code",
   "execution_count": null,
   "metadata": {},
   "outputs": [],
   "source": [
    "######## Most populated area of the city: i.e. where the 80% of the population live #############\n",
    "tmp = gdf_city[['pop','NDVI','geometry']]\n",
    "tmp = tmp.sort_values(['pop'], ascending=False)\n",
    "tmp['cs']   = np.cumsum(tmp['pop'])\n",
    "tmp['css']  = tmp['cs']/tmp['pop'].sum()\n",
    "tmp=tmp[tmp['css']<=0.8]                                      ###### Focus where the population live\n",
    "\n",
    "tmp = tmp.sort_values('pop', ascending=False)  \n",
    "tmp['NDVI_']=tmp['NDVI']+0.38\n",
    "j = list(np.where(tmp['NDVI_']>0.85)[0])\n",
    "idx = tmp.index[j]\n",
    "tmp['NDVI_'][idx]=0.85\n",
    "\n",
    "gdf_city['NDVI_a']=gdf_city['NDVI']\n",
    "gdf_city['NDVI_a'][tmp.index]=tmp['NDVI_'][tmp.index]\n",
    "\n",
    "\n",
    "\n",
    "y_pred_day2   = estimate(target_vars[0], predictor_vars2, gdf_city, w_, betas_day)\n",
    "y_pred_night2 = estimate(target_vars[1], predictor_vars2, gdf_city, w_, betas_night)\n",
    "gdf_city['y_day2']=y_pred_day2\n",
    "gdf_city['y_night2']=y_pred_night2\n"
   ]
  },
  {
   "cell_type": "code",
   "execution_count": null,
   "metadata": {},
   "outputs": [],
   "source": [
    "gdf_city['ep2'] = 0.5*gdf_city['pop']*(gdf_city['y_day2']+gdf_city['y_night2'])\n",
    "gdf_city['ed2'] = 0.5*(gdf_city['y_day2']+gdf_city['y_day2'])\n",
    "\n",
    "\n",
    "gdf_city['ep1'] = 0.5*gdf_city['pop']*(gdf_city['y_day1']+gdf_city['y_night1'])\n",
    "gdf_city['ed1'] = 0.5*(gdf_city['y_day1']+gdf_city['y_day1'])\n",
    "\n",
    "\n",
    "gdf_city['ep'] = 0.5*gdf_city['pop']*(gdf_city['y_day']+gdf_city['y_night'])\n",
    "gdf_city['ed'] = 0.5*(gdf_city['y_day']+gdf_city['y_day'])"
   ]
  },
  {
   "cell_type": "code",
   "execution_count": null,
   "metadata": {},
   "outputs": [],
   "source": [
    "f,axs = plt.subplots(2, 4, figsize=(20,10))\n",
    "ax = axs[0][0]\n",
    "gdf_city.plot(column='pop', vmax=20000,ax=ax, markersize=5,\n",
    "              legend='True', legend_kwds={'shrink': 0.3}, cmap='cividis')\n",
    "dfc1.boundary.plot(ax=ax,color='red')\n",
    "ax.set_title('Entire urban area', size=fs)\n",
    "ax.axis('off')\n",
    "\n",
    "\n",
    "ax = axs[1][0]\n",
    "tmp.plot(column='pop', vmin=0, vmax=20000,ax=ax, markersize=5,\n",
    "              legend='True', legend_kwds={'shrink': 0.3}, cmap='cividis')\n",
    "gdf_city.plot(column='pop', vmax=20000,ax=ax,alpha=0)\n",
    "dfc1.boundary.plot(ax=ax,color='red')\n",
    "ax.set_title('Most populated area', size=fs)\n",
    "ax.axis('off')\n",
    "\n",
    "ax = axs[0][1]\n",
    "gdf_city.plot(column='NDVI', vmin=0, vmax=0.85,ax=ax, markersize=5,\n",
    "              legend='True', legend_kwds={'shrink': 0.3}, cmap='Greens')\n",
    "dfc1.boundary.plot(ax=ax,color='red')\n",
    "ax.set_title('Cumulated NDVI\\n%.2f'%gdf_city['NDVI'].sum(), size=fs)\n",
    "ax.axis('off')\n",
    "\n",
    "ax = axs[1][1]\n",
    "gdf_city.plot(column='ed', ax=ax, markersize=5, vmax=10, vmin=0,\n",
    "              legend='True', legend_kwds={'shrink': 0.3}, cmap='jet')\n",
    "dfc1.boundary.plot(ax=ax,color='red')\n",
    "vc = gdf_city['ep'].sum()/1e6 \n",
    "ax.set_title(r'$TE_T^0 = %d$'%vc+'M [person'%vc+r'$\\cdot$'+'days]', size=fs)\n",
    "ax.axis('off')\n",
    "\n",
    "\n",
    "ax = axs[0][2]\n",
    "gdf_city.plot(column='NDVI_', vmin=0, vmax=0.85,ax=ax, markersize=5,\n",
    "              legend='True', legend_kwds={'shrink': 0.3}, cmap='Greens')\n",
    "dfc1.boundary.plot(ax=ax,color='red')\n",
    "ax.set_title('Increased comulated NDVI\\n%.2f'%gdf_city['NDVI_'].sum(), size=fs)\n",
    "ax.axis('off')\n",
    "\n",
    "ax = axs[1][2]\n",
    "gdf_city.plot(column='ed1', ax=ax, markersize=5, vmax=10, vmin=0,\n",
    "              legend='True', legend_kwds={'shrink': 0.3}, cmap='jet')\n",
    "dfc1.boundary.plot(ax=ax,color='red')\n",
    "vc = gdf_city['ep1'].sum()/1e6 \n",
    "ax.set_title(r'$TE_T^1 = %d$'%vc+'M [person'%vc+r'$\\cdot$'+'days]', size=fs)\n",
    "ax.axis('off')\n",
    "\n",
    "\n",
    "ax = axs[0][3]\n",
    "gdf_city.plot(column='NDVI_a', vmin=0, vmax=0.85,ax=ax, markersize=5,\n",
    "              legend='True', legend_kwds={'shrink': 0.3}, cmap='Greens')\n",
    "dfc1.boundary.plot(ax=ax,color='red')\n",
    "ax.set_title('Increased comulated NDVI\\n%.2f'%gdf_city['NDVI_a'].sum(), size=fs)\n",
    "ax.axis('off')\n",
    "\n",
    "ax = axs[1][3]\n",
    "gdf_city.plot(column='ed2', ax=ax, markersize=5, vmax=10, vmin=0,\n",
    "              legend='True', legend_kwds={'shrink': 0.3}, cmap='jet')\n",
    "dfc1.boundary.plot(ax=ax,color='red')\n",
    "vc = gdf_city['ep2'].sum()/1e6 \n",
    "ax.set_title(r'$TE_T^1 = %d$'%vc+'M [person'%vc+r'$\\cdot$'+'days]', size=fs)\n",
    "ax.axis('off')\n"
   ]
  },
  {
   "cell_type": "code",
   "execution_count": null,
   "metadata": {},
   "outputs": [],
   "source": [
    "f.savefig('../figures_revision/f4SI.pdf', bbox_inches = 'tight')"
   ]
  },
  {
   "cell_type": "code",
   "execution_count": null,
   "metadata": {},
   "outputs": [],
   "source": [
    "import sys\n",
    "import matplotlib.ticker as ticker\n",
    "def fmt(x, pos):\n",
    "    a, b = '{:.2e}'.format(x).split('e')\n",
    "    b = int(b)\n",
    "    if a[0]!='0':\n",
    "        return r'${} $'.format(a[0])\n",
    "    else:\n",
    "        return r'${} $'.format('0')\n",
    "sys.path.insert(1, '../codes/')\n",
    "from geeCodes import *\n",
    "geo = dfc[dfc['UC_NM_MN']=='Paris'].reset_index(drop=True)\n",
    "S = returnCityBoundary(geo)"
   ]
  },
  {
   "cell_type": "code",
   "execution_count": null,
   "metadata": {},
   "outputs": [],
   "source": [
    "f,ax = plt.subplots(figsize=(7,7))\n",
    "vmax=40000\n",
    "vmin=0\n",
    "cmap = 'gnuplot'\n",
    "gdf_city.plot(column='pop', ax=ax, markersize=25,legend=False, cmap=cmap, vmax=vmax, vmin=vmin)\n",
    "geo.boundary.plot(ax=ax,color='red')\n",
    "S[0].boundary.plot(ax=ax, lw=8)\n",
    "ax.axis('off')\n",
    "f.savefig('../figures_revision/f4a.pdf', bbox_inches = 'tight')"
   ]
  },
  {
   "cell_type": "code",
   "execution_count": null,
   "metadata": {},
   "outputs": [],
   "source": [
    "f,ax=plt.subplots()\n",
    "cax = f.add_axes([0.9, 0.1, 0.05, 0.8])\n",
    "sm = plt.cm.ScalarMappable(cmap=cmap, norm=plt.Normalize(vmin=0, vmax=4))\n",
    "sm._A = []\n",
    "cbr = f.colorbar(sm, cax=cax,format=ticker.FuncFormatter(fmt))\n",
    "cbr.ax.tick_params(labelsize=20) \n",
    "plt.tight_layout()\n",
    "ax.axis('off')\n"
   ]
  },
  {
   "cell_type": "code",
   "execution_count": null,
   "metadata": {},
   "outputs": [],
   "source": [
    "f.savefig('../figures_revision/legendaa.pdf', bbox_inches = 'tight')"
   ]
  },
  {
   "cell_type": "code",
   "execution_count": null,
   "metadata": {},
   "outputs": [],
   "source": [
    "f,ax = plt.subplots(figsize=(7,7))\n",
    "tmp.plot(column='pop', ax=ax, markersize=25,legend=False, cmap=cmap, vmax=vmax)\n",
    "gdf_city.plot(column='pop', vmax=20000,ax=ax,alpha=0)\n",
    "geo.boundary.plot(ax=ax,color='red')\n",
    "S[0].boundary.plot(ax=ax, lw=4)\n",
    "ax.axis('off')\n",
    "f.savefig('../figures_revision/f4b.pdf', bbox_inches = 'tight')"
   ]
  },
  {
   "cell_type": "code",
   "execution_count": null,
   "metadata": {},
   "outputs": [],
   "source": [
    "vmax=0.85\n",
    "f,ax = plt.subplots(figsize=(7,7))\n",
    "gdf_city.plot(column='NDVI', vmin=0, vmax=vmax,ax=ax, markersize=25, legend=False, cmap='Greens')\n",
    "geo.boundary.plot(ax=ax,color='red')\n",
    "S[0].boundary.plot(ax=ax, lw=4)\n",
    "ax.axis('off')\n",
    "f.savefig('../figures_revision/ndvi0.pdf', bbox_inches = 'tight')"
   ]
  },
  {
   "cell_type": "code",
   "execution_count": null,
   "metadata": {},
   "outputs": [],
   "source": [
    "f,ax = plt.subplots(figsize=(7,7))\n",
    "gdf_city.plot(column='NDVI_', vmin=0, vmax=vmax,ax=ax, markersize=25, legend=False, cmap='Greens')\n",
    "geo.boundary.plot(ax=ax,color='red')\n",
    "S[0].boundary.plot(ax=ax, lw=4)\n",
    "ax.axis('off')\n",
    "f.savefig('../figures_revision/ndvi1.pdf', bbox_inches = 'tight')"
   ]
  },
  {
   "cell_type": "code",
   "execution_count": null,
   "metadata": {},
   "outputs": [],
   "source": [
    "f,ax = plt.subplots(figsize=(7,7))\n",
    "gdf_city.plot(column='NDVI_a', vmin=0, vmax=vmax,ax=ax, markersize=25, legend=False, cmap='Greens')\n",
    "geo.boundary.plot(ax=ax,color='red')\n",
    "S[0].boundary.plot(ax=ax, lw=4)\n",
    "ax.axis('off')\n",
    "f.savefig('../figures_revision/ndvi2.pdf', bbox_inches = 'tight')"
   ]
  },
  {
   "cell_type": "code",
   "execution_count": null,
   "metadata": {},
   "outputs": [],
   "source": [
    "f,ax=plt.subplots()\n",
    "cax = f.add_axes([0.9, 0.1, 0.05, 0.8])\n",
    "sm = plt.cm.ScalarMappable(cmap='Greens', norm=plt.Normalize(vmin=0, vmax=vmax))\n",
    "sm._A = []\n",
    "cbr = f.colorbar(sm, cax=cax)\n",
    "cbr.ax.tick_params(labelsize=20) \n",
    "plt.tight_layout()\n",
    "ax.axis('off')"
   ]
  },
  {
   "cell_type": "code",
   "execution_count": null,
   "metadata": {},
   "outputs": [],
   "source": [
    "f.savefig('../figures_revision/legend2.pdf', bbox_inches = 'tight')"
   ]
  },
  {
   "cell_type": "code",
   "execution_count": null,
   "metadata": {},
   "outputs": [],
   "source": [
    "f,ax = plt.subplots(figsize=(7,7))\n",
    "gdf_city.plot(column='ed', ax=ax, markersize=30, legend=False, cmap='jet', vmin=0, vmax=10)\n",
    "geo.boundary.plot(ax=ax,color='red')\n",
    "vc = gdf_city['ep'].sum()/1e6 \n",
    "S[0].boundary.plot(ax=ax, lw=4)\n",
    "ax.axis('off')\n",
    "f.savefig('../figures_revision/ep1.pdf', bbox_inches = 'tight')"
   ]
  },
  {
   "cell_type": "code",
   "execution_count": null,
   "metadata": {},
   "outputs": [],
   "source": [
    "f,ax = plt.subplots(figsize=(7,7))\n",
    "gdf_city.plot(column='ed1', ax=ax, markersize=30, legend=False, cmap='jet', vmin=0, vmax=10)\n",
    "geo.boundary.plot(ax=ax,color='red')\n",
    "vc = gdf_city['ep'].sum()/1e6 \n",
    "S[0].boundary.plot(ax=ax, lw=4)\n",
    "ax.axis('off')\n",
    "f.savefig('../figures_revision/ep2.pdf', bbox_inches = 'tight')"
   ]
  },
  {
   "cell_type": "code",
   "execution_count": null,
   "metadata": {},
   "outputs": [],
   "source": [
    "f,ax = plt.subplots(figsize=(7,7))\n",
    "gdf_city.plot(column='ed2', ax=ax, markersize=30, legend=False, cmap='jet', vmin=0, vmax=10)\n",
    "geo.boundary.plot(ax=ax,color='red')\n",
    "vc = gdf_city['ep'].sum()/1e6 \n",
    "S[0].boundary.plot(ax=ax, lw=4)\n",
    "ax.axis('off')\n",
    "f.savefig('../figures_revision/ep3.pdf', bbox_inches = 'tight')"
   ]
  },
  {
   "cell_type": "code",
   "execution_count": null,
   "metadata": {},
   "outputs": [],
   "source": [
    "f,ax=plt.subplots()\n",
    "cax = f.add_axes([0.9, 0.1, 0.05, 0.8])\n",
    "sm = plt.cm.ScalarMappable(cmap='jet', norm=plt.Normalize(vmin=0, vmax=10))\n",
    "sm._A = []\n",
    "cbr = f.colorbar(sm, cax=cax)\n",
    "cbr.ax.tick_params(labelsize=20) \n",
    "plt.tight_layout()\n",
    "ax.axis('off')"
   ]
  },
  {
   "cell_type": "code",
   "execution_count": null,
   "metadata": {},
   "outputs": [],
   "source": [
    "f.savefig('../figures_revision/legend3.pdf', bbox_inches = 'tight')"
   ]
  },
  {
   "cell_type": "code",
   "execution_count": null,
   "metadata": {},
   "outputs": [],
   "source": [
    "100*(6201.02 - 4364.15)/4364.15"
   ]
  },
  {
   "cell_type": "code",
   "execution_count": null,
   "metadata": {},
   "outputs": [],
   "source": [
    "6201/4364"
   ]
  },
  {
   "cell_type": "code",
   "execution_count": null,
   "metadata": {},
   "outputs": [],
   "source": [
    "100*(4969.02 - 4364.15)/4364.15"
   ]
  }
 ],
 "metadata": {
  "kernelspec": {
   "display_name": "Python 3 (ipykernel)",
   "language": "python",
   "name": "python3"
  },
  "language_info": {
   "codemirror_mode": {
    "name": "ipython",
    "version": 3
   },
   "file_extension": ".py",
   "mimetype": "text/x-python",
   "name": "python",
   "nbconvert_exporter": "python",
   "pygments_lexer": "ipython3",
   "version": "3.10.6"
  }
 },
 "nbformat": 4,
 "nbformat_minor": 4
}
