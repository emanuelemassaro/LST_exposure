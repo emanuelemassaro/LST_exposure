{
 "cells": [
  {
   "cell_type": "code",
   "execution_count": 2,
   "metadata": {},
   "outputs": [
    {
     "name": "stdout",
     "output_type": "stream",
     "text": [
      "Populating the interactive namespace from numpy and matplotlib\n"
     ]
    },
    {
     "data": {
      "text/html": [
       "<p>To authorize access needed by Earth Engine, open the following\n",
       "        URL in a web browser and follow the instructions:</p>\n",
       "        <p><a href=https://code.earthengine.google.com/client-auth?scopes=https%3A//www.googleapis.com/auth/earthengine%20https%3A//www.googleapis.com/auth/devstorage.full_control&request_id=onQf8FrQ3sKIl2qZ8lysQjKD4ATy_5ORAPDLQSRk1F4&tc=pHCv_PPjlJDCe5LxhQB-CxkoSqb3njXhpM-XaSdk75Y&cc=p0ibY2HGSC6OGwdnpxZr0ROxULyM-7eL1-7FxBmpjcs>https://code.earthengine.google.com/client-auth?scopes=https%3A//www.googleapis.com/auth/earthengine%20https%3A//www.googleapis.com/auth/devstorage.full_control&request_id=onQf8FrQ3sKIl2qZ8lysQjKD4ATy_5ORAPDLQSRk1F4&tc=pHCv_PPjlJDCe5LxhQB-CxkoSqb3njXhpM-XaSdk75Y&cc=p0ibY2HGSC6OGwdnpxZr0ROxULyM-7eL1-7FxBmpjcs</a></p>\n",
       "        <p>The authorization workflow will generate a code, which you\n",
       "        should paste in the box below</p>\n",
       "        "
      ],
      "text/plain": [
       "<IPython.core.display.HTML object>"
      ]
     },
     "metadata": {},
     "output_type": "display_data"
    },
    {
     "name": "stdout",
     "output_type": "stream",
     "text": [
      "Enter verification code: 4/1AWtgzh7vw5Vj5Hf8NEg1S63SbFX0OEVBH9OFZl7P-TuSU16B4m2gj62qjIU\n",
      "\n",
      "Successfully saved authorization token.\n"
     ]
    }
   ],
   "source": [
    "%config InlineBackend.figure_format = 'retina'\n",
    "%pylab inline\n",
    "import sys\n",
    "sys.path.insert(1, '../codes/')\n",
    "from geeCodes import *\n",
    "\n",
    "\n",
    "import ee\n",
    "#earthengine authenticate\n",
    "ee.Authenticate()\n",
    "ee.Initialize()"
   ]
  },
  {
   "cell_type": "code",
   "execution_count": 3,
   "metadata": {},
   "outputs": [],
   "source": [
    "dfc = gpd.read_file('../data_revision/cities/all/gdfCities.shp')\n",
    "dfc = dfc.to_crs(\"EPSG:4326\")\n",
    "cities = dfc['UC_NM_MN']\n",
    "years_str = []\n",
    "years = np.arange(2010,2021)\n",
    "for y in years:\n",
    "    years_str.append(str(y))"
   ]
  },
  {
   "cell_type": "code",
   "execution_count": 4,
   "metadata": {},
   "outputs": [],
   "source": [
    "dfTreshold = pd.read_csv('../data_revision/dfTreshold3.csv')\n",
    "cities=dfc['UC_NM_MN']\n",
    "global lst90\n",
    "def hotdays(image):\n",
    "    hot = image.gt(lst90);\n",
    "    return image.addBands(hot.rename('hotdays').set('system:time_start', image.get('system:time_start')));\n",
    "def toNDVI(image):\n",
    "    lst = image.select('NDVI').multiply(0.0001);\n",
    "    overwrite = True;\n",
    "    result = image.addBands(lst, ['NDVI'], overwrite);\n",
    "    return result; \n",
    "\n",
    "def toSWIR_NIR(image):\n",
    "    swir = image.select('sur_refl_b06').multiply(0.0001);\n",
    "    nir = image.select('sur_refl_b02').multiply(0.0001);\n",
    "    overwrite = True;\n",
    "    result = image.addBands([swir, nir], ['sur_refl_b06', 'sur_refl_b02'], overwrite);\n",
    "    return result; \n",
    "\n",
    "def toAlbedo(image):\n",
    "    swir = image.select('Albedo_BSA_shortwave').multiply(0.001);\n",
    "    nir = image.select('Albedo_WSA_shortwave').multiply(0.001);\n",
    "    overwrite = True;\n",
    "    result = image.addBands([swir, nir], ['Albedo_BSA_shortwave', 'Albedo_WSA_shortwave'], overwrite);\n",
    "    return result; \n",
    "\n",
    "\n",
    "def QC_mask(image2):\n",
    "    return image2.updateMask(bitwiseExtract(image2.select('SummaryQA'), 0, 1));\n",
    "\n",
    "\n",
    "#def addCoordinates()\n",
    "\n",
    "imgPop = ee.Image('projects/ee-thermopolis-revision/assets/pop%d'%2015)\n",
    "latLonImagePop = imgPop.addBands(ee.Image.pixelLonLat())\n",
    "latLonImagePop = latLonImagePop.unmask(-999)\n",
    "imgDist = ee.Image('projects/ee-thermopolis-revision/assets/distToWater')\n",
    "latLonImageDist = imgDist.addBands(ee.Image.pixelLonLat())"
   ]
  },
  {
   "cell_type": "code",
   "execution_count": null,
   "metadata": {},
   "outputs": [],
   "source": [
    "################################### Get the data #############################################################\n",
    "cols = ['city', 'ep', 'year', 'pop', 'epdays', 'epnights']\n",
    "dfEP = pd.DataFrame(columns=cols)\n",
    "\n",
    "for idx in range(0, 200):\n",
    "    city = cities[idx]\n",
    "    EP = []\n",
    "    for year in years:\n",
    "        \n",
    "        df = pd.DataFrame()\n",
    "        years_str = [str(year)]\n",
    "        \n",
    "        #if os.path.exists('../data_revision/GEE_dataframes/gdf_%d.shp'%idx):continue\n",
    "\n",
    "        ### GEE datelist\n",
    "        fileT = '../data_revision/cities/air_temperature/%s/temperature_new.csv'%city\n",
    "        dfT = pd.read_csv(fileT)\n",
    "        datelist = listHotDays(dfT, years_str)\n",
    "\n",
    "        ####### GEE Geometry ###############################################\n",
    "        geo = dfc[dfc['UC_NM_MN']==city].reset_index(drop=True)\n",
    "        S = returnCityBoundary(geo)\n",
    "        geometry = returnGeometry(S[0])\n",
    "\n",
    "        ###### Tresholds ######################################################\n",
    "        lst90_day = dfTreshold['Tr_day3'][idx]\n",
    "        lst90_night = dfTreshold['Tr_night3'][idx]\n",
    "\n",
    "\n",
    "        ######################## DAYs over tresholds ######################################################\n",
    "        modis = ee.ImageCollection ('MODIS/006/MOD11A1').select(['LST_Day_1km', 'QC_Day'])\\\n",
    "              .map(toCelciusDay).filterBounds(geometry).filter(ee.Filter.inList(\"system:time_start\", datelist))\\\n",
    "              .map(QC_Day_mask);\n",
    "        # Day treshold    \n",
    "        lst90 = lst90_day \n",
    "        days   = ee.ImageCollection(modis.select('LST_Day_1km')).map(hotdays);\n",
    "        days = ee.ImageCollection(days.select('hotdays')).sum().float();    \n",
    "\n",
    "        # Add coordinates\n",
    "        img_sum  = days.unmask(0).reduce(ee.Reducer.sum())\n",
    "        latLonImage = img_sum.addBands(ee.Image.pixelLonLat())\n",
    "        #latLonImage = latLonImage.unmask(0)\n",
    "        coords = latLonImage.select(['sum','longitude', 'latitude']).reduceRegion(\n",
    "                            reducer =  ee.Reducer.toList(),\n",
    "                            geometry = geometry,\n",
    "                            scale =   926.625433056,\n",
    "                            crs =  'epsg:4326')\n",
    "\n",
    "        LST = ee.List(coords.get('sum'))\n",
    "        lat = ee.List(coords.get('latitude'))\n",
    "        lon = ee.List(coords.get('longitude'))\n",
    "\n",
    "        df = pd.DataFrame()\n",
    "        df['hot_days'] = LST.getInfo()\n",
    "        df['lat'] = lat.getInfo()\n",
    "        df['lon'] = lon.getInfo()\n",
    "\n",
    "\n",
    "\n",
    "        ######################## NIGHTs over tresholds ######################################################\n",
    "        modis = ee.ImageCollection ('MODIS/006/MOD11A1').select(['LST_Night_1km', 'QC_Night'])\\\n",
    "              .map(toCelciusNight).filterBounds(geometry).filter(ee.Filter.inList(\"system:time_start\", datelist))\\\n",
    "              .map(QC_Night_mask);\n",
    "        # Day treshold    \n",
    "        lst90       = lst90_night \n",
    "        days        = ee.ImageCollection(modis.select('LST_Night_1km')).map(hotdays);\n",
    "        days        = ee.ImageCollection(days.select('hotdays')).sum().float();   \n",
    "        img_sum     = days.unmask(0).reduce(ee.Reducer.sum())\n",
    "        coords = latLonImage.select(['sum']).reduceRegion(\n",
    "                            reducer =  ee.Reducer.toList(),\n",
    "                            geometry = geometry,\n",
    "                            scale =   926.625433056,\n",
    "                            crs =  'epsg:4326')\n",
    "\n",
    "        LST = ee.List(coords.get('sum'))\n",
    "        df['hot_nights'] = LST.getInfo()\n",
    "        \n",
    "        \n",
    "        imgPop = ee.Image('projects/ee-thermopolis-revision/assets/population_%d'%year)\n",
    "        latLonImagePop = imgPop.unmask(-999)\n",
    "        coords = latLonImagePop.select(['b1']).reduceRegion(\n",
    "                            reducer =  ee.Reducer.toList(),\n",
    "                            geometry = geometry,\n",
    "                            scale =   926.625433056,\n",
    "                            crs =  'epsg:4326')\n",
    "        df['pop'] = ee.List(coords.get('b1')).getInfo()\n",
    "        df['city']=city\n",
    "        \n",
    "        df = df[df['pop']>0].reset_index(drop=True)\n",
    "        \n",
    "        epdays = np.sum(df['pop']*df['hot_days'])\n",
    "        epnights = np.sum(df['pop']*df['hot_nights'])\n",
    "        ep = 0.5*(epdays+epnights)\n",
    "        EP.append(ep)\n",
    "        \n",
    "        data = [city, ep, year, df['pop'].sum(), epdays, epnights]\n",
    "        dfEP = dfEP.append(pd.DataFrame(columns=cols, data=[data]),ignore_index=True)\n",
    "        print(city, epdays, epnights, ep)"
   ]
  },
  {
   "cell_type": "code",
   "execution_count": 37,
   "metadata": {},
   "outputs": [
    {
     "data": {
      "text/plain": [
       "19691752.336474895"
      ]
     },
     "execution_count": 37,
     "metadata": {},
     "output_type": "execute_result"
    }
   ],
   "source": []
  },
  {
   "cell_type": "code",
   "execution_count": 36,
   "metadata": {},
   "outputs": [
    {
     "data": {
      "text/plain": [
       "[<matplotlib.lines.Line2D at 0x7ff66cf132b0>]"
      ]
     },
     "execution_count": 36,
     "metadata": {},
     "output_type": "execute_result"
    },
    {
     "data": {
      "image/png": "[encoded data removed]",
      "text/plain": [
       "<Figure size 432x288 with 1 Axes>"
      ]
     },
     "metadata": {
      "image/png": {
       "height": 258,
       "width": 372
      },
      "needs_background": "light"
     },
     "output_type": "display_data"
    }
   ],
   "source": [
    "import pylab as plt\n",
    "plt.plot(years, EP)"
   ]
  },
  {
   "cell_type": "code",
   "execution_count": 33,
   "metadata": {},
   "outputs": [
    {
     "data": {
      "text/plain": [
       "'projects/ee-thermopolis-revision/assets/population_2020'"
      ]
     },
     "execution_count": 33,
     "metadata": {},
     "output_type": "execute_result"
    }
   ],
   "source": [
    "'projects/ee-thermopolis-revision/assets/population_%d'%year"
   ]
  },
  {
   "cell_type": "code",
   "execution_count": null,
   "metadata": {},
   "outputs": [],
   "source": []
  }
 ],
 "metadata": {
  "kernelspec": {
   "display_name": "Python 3",
   "language": "python",
   "name": "python3"
  },
  "language_info": {
   "codemirror_mode": {
    "name": "ipython",
    "version": 3
   },
   "file_extension": ".py",
   "mimetype": "text/x-python",
   "name": "python",
   "nbconvert_exporter": "python",
   "pygments_lexer": "ipython3",
   "version": "3.8.10"
  }
 },
 "nbformat": 4,
 "nbformat_minor": 4
}
