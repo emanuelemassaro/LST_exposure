{
 "cells": [
  {
   "cell_type": "code",
   "execution_count": 2,
   "metadata": {},
   "outputs": [
    {
     "name": "stdout",
     "output_type": "stream",
     "text": [
      "Populating the interactive namespace from numpy and matplotlib\n"
     ]
    }
   ],
   "source": [
    "%config InlineBackend.figure_format = 'retina'\n",
    "%pylab inline\n",
    "### Libraries \n",
    "import warnings\n",
    "warnings.filterwarnings('ignore')\n",
    "import pandas as pd\n",
    "import pickle\n",
    "import geopandas as gpd\n",
    "import libpysal\n",
    "import statsmodels.api as sm\n",
    "from sklearn.metrics import mean_absolute_error, r2_score"
   ]
  },
  {
   "cell_type": "code",
   "execution_count": 3,
   "metadata": {},
   "outputs": [],
   "source": [
    "######### Load datasets for cross validation\n",
    "######### Load datasets for cross validation\n",
    "dfTV = pd.read_pickle('../data_revision/cities/cv/df_train_val.pkl')\n",
    "dfTest = pd.read_pickle('../data_revision/cities/cv/df_test.pkl')\n",
    "dfc = gpd.read_file('../data_revision/cities/all/gdfCities.shp')"
   ]
  },
  {
   "cell_type": "code",
   "execution_count": 4,
   "metadata": {},
   "outputs": [],
   "source": [
    "def norm01(df, column):\n",
    "    return (df[column] - df[column].min()) / (df[column].max() - df[column].min())"
   ]
  },
  {
   "cell_type": "code",
   "execution_count": 5,
   "metadata": {},
   "outputs": [],
   "source": [
    "gdf_all = gpd.GeoDataFrame()\n",
    "for idx in range(0, len(dfc)):\n",
    "    fout = '../data_revision/dataframes/gdf_%d_all.shp'%idx\n",
    "    df = gpd.read_file(fout)\n",
    "    df['UC_NM_MN'] = dfc['UC_NM_MN'][idx]\n",
    "    df['meand'] = df['hot_days'].mean()\n",
    "    df['meann'] = df['hot_nights'].mean()\n",
    "    df = df[df['dist']>=0].reset_index(drop=True)\n",
    "    df['dist_n'] = 1/(df['dist']+1)\n",
    "    df['dist_n2'] = 1/(df['dist']**2+1)\n",
    "    df['dist_n'] = norm01(df, 'dist_n')\n",
    "    df['dist_n2'] = norm01(df, 'dist_n2')\n",
    "    gdf_all = gdf_all.append(df, ignore_index=True)\n",
    "\n",
    "gdf_all = gdf_all[gdf_all['NDBI']<=1].reset_index(drop=True)\n",
    "gdf_all = gdf_all[gdf_all['NDBI']>=-1].dropna().reset_index(drop=True)"
   ]
  },
  {
   "cell_type": "code",
   "execution_count": 6,
   "metadata": {},
   "outputs": [],
   "source": [
    "df_res_day = pd.read_pickle('../data_revision/results/df_res_day_final.pkl')\n",
    "df_res_night = pd.read_pickle('../data_revision/results/df_res_night_final.pkl')"
   ]
  },
  {
   "cell_type": "code",
   "execution_count": 7,
   "metadata": {},
   "outputs": [],
   "source": [
    "target_vars = ['hot_days', 'hot_nights']\n",
    "predictor_vars = ['NDVI', 'NDBI', 'dist_n']"
   ]
  },
  {
   "cell_type": "code",
   "execution_count": null,
   "metadata": {},
   "outputs": [],
   "source": [
    "target_var = target_vars[0]\n",
    "cols = ['R2', 'betas']\n",
    "dftest_day = pd.DataFrame(columns=cols)\n",
    "phases = dfTest['phase'].unique()\n",
    "for phase in phases:\n",
    "    c = list(dfTest[dfTest['phase']==phase]['UC_NM_MN'])\n",
    "    gdf_test = gdf_all[gdf_all['UC_NM_MN'].isin(c)].reset_index(drop=True)\n",
    "    w_test = libpysal.weights.KNN.from_dataframe(gdf_test, k=4)\n",
    "    w_test.transform = 'r'\n",
    "    w_test = libpysal.weights.lag_spatial(w_test, gdf_test[target_var])\n",
    "    x_test = gdf_test[predictor_vars].values\n",
    "    constant = sm.add_constant(np.hstack((x_test,np.array(w_test).reshape(-1,1))))\n",
    "    tmp = df_res_day[df_res_day['Phase']==phase]\n",
    "    tmp = tmp[tmp['R2_val_slm']==max(tmp['R2_val_slm'])]\n",
    "    idx = tmp.index[0]\n",
    "    betas = tmp['SLM'][idx]\n",
    "    #betas = np.array(re.findall(\"\\d+\\.\\d+\", betas)).astype(np.float)\n",
    "    ytest_  = np.sum(constant * (betas.T), axis=1).reshape((-1, 1))\n",
    "\n",
    "    print(r2_score(ytest_, gdf_test[target_var]), r2_score(ytest_ols, gdf_test[target_var]))\n",
    "    data = [r2_score(ytest_, gdf_test[target_var]), betas]\n",
    "    dftest_day = dftest_day.append(pd.DataFrame(columns=cols,data=[data]),ignore_index=True)"
   ]
  },
  {
   "cell_type": "code",
   "execution_count": 11,
   "metadata": {},
   "outputs": [],
   "source": [
    "dftest_day.to_pickle('../data_revision/results/dftest_day_final.pkl')"
   ]
  },
  {
   "cell_type": "code",
   "execution_count": null,
   "metadata": {},
   "outputs": [
    {
     "name": "stdout",
     "output_type": "stream",
     "text": [
      "0.8397042606411276\n",
      "0.7991818205002643\n",
      "0.9050400457560497\n"
     ]
    }
   ],
   "source": [
    "target_var = target_vars[1]\n",
    "cols = ['R2', 'betas']\n",
    "dftest_night = pd.DataFrame(columns=cols)\n",
    "for phase in phases:\n",
    "    c = list(dfTest[dfTest['phase']==phase]['UC_NM_MN'])\n",
    "    gdf_test = gdf_all[gdf_all['UC_NM_MN'].isin(c)].reset_index(drop=True)\n",
    "    w_test = libpysal.weights.KNN.from_dataframe(gdf_test, k=4)\n",
    "    w_test.transform = 'r'\n",
    "    w_test = libpysal.weights.lag_spatial(w_test, gdf_test[target_var])\n",
    "    x_test = gdf_test[predictor_vars].values\n",
    "    constant = sm.add_constant(np.hstack((x_test,np.array(w_test).reshape(-1,1))))\n",
    "    tmp = df_res_night[df_res_night['Phase']==phase]\n",
    "    tmp = tmp[tmp['R2_val_slm']==max(tmp['R2_val_slm'])]\n",
    "    idx = tmp.index[0]\n",
    "    betas = tmp['SLM'][idx]\n",
    "    #betas = np.array(re.findall(\"\\d+\\.\\d+\", betas)).astype(np.float)\n",
    "    ytest_  = np.sum(constant * (betas.T), axis=1).reshape((-1, 1))\n",
    "    print(r2_score(ytest_, gdf_test[target_var]))\n",
    "    data = [r2_score(ytest_, gdf_test[target_var]), betas]\n",
    "    dftest_night = dftest_night.append(pd.DataFrame(columns=cols,data=[data]),ignore_index=True)"
   ]
  },
  {
   "cell_type": "code",
   "execution_count": 17,
   "metadata": {},
   "outputs": [],
   "source": [
    "dftest_night.to_pickle('../data_revision/results/dftest_night_final.pkl')"
   ]
  },
  {
   "cell_type": "code",
   "execution_count": null,
   "metadata": {},
   "outputs": [],
   "source": []
  }
 ],
 "metadata": {
  "kernelspec": {
   "display_name": "Python 3",
   "language": "python",
   "name": "python3"
  },
  "language_info": {
   "codemirror_mode": {
    "name": "ipython",
    "version": 3
   },
   "file_extension": ".py",
   "mimetype": "text/x-python",
   "name": "python",
   "nbconvert_exporter": "python",
   "pygments_lexer": "ipython3",
   "version": "3.8.10"
  }
 },
 "nbformat": 4,
 "nbformat_minor": 4
}
