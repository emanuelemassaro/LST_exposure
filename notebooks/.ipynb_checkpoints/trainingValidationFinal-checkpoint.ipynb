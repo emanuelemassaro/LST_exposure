{
 "cells": [
  {
   "cell_type": "code",
   "execution_count": null,
   "metadata": {},
   "outputs": [],
   "source": [
    "%config InlineBackend.figure_format = 'retina'\n",
    "%pylab inline\n",
    "### Libraries \n",
    "import warnings\n",
    "warnings.filterwarnings('ignore')\n",
    "import sys\n",
    "sys.path.insert(1, '../codes/')\n",
    "from myUtils import *"
   ]
  },
  {
   "cell_type": "code",
   "execution_count": null,
   "metadata": {},
   "outputs": [],
   "source": [
    "######### Load datasets for cross validation\n",
    "dfTV = pd.read_pickle('../data_revision/cities/cv/df_train_val.pkl')\n",
    "dfTest = pd.read_pickle('../data_revision/cities/cv/df_test.pkl')\n",
    "dfc = gpd.read_file('../data_revision/cities/all/gdfCities.shp')"
   ]
  },
  {
   "cell_type": "code",
   "execution_count": null,
   "metadata": {},
   "outputs": [],
   "source": [
    "gdf_all = gpd.GeoDataFrame()\n",
    "for idx in range(0, len(dfc)):\n",
    "    fout = '../data_revision/dataframes/gdf_%d_all.shp'%idx\n",
    "    df = gpd.read_file(fout)\n",
    "    df['UC_NM_MN'] = dfc['UC_NM_MN'][idx]\n",
    "    df['meand'] = df['hot_days'].mean()\n",
    "    df['meann'] = df['hot_nights'].mean()\n",
    "    gdf_all = gdf_all.append(df, ignore_index=True)"
   ]
  },
  {
   "cell_type": "code",
   "execution_count": null,
   "metadata": {},
   "outputs": [],
   "source": [
    "target_vars = ['hot_days', 'hot_nights']\n",
    "predictor_vars = ['NDVI', 'NDBI', 'dist_n2']"
   ]
  },
  {
   "cell_type": "code",
   "execution_count": null,
   "metadata": {},
   "outputs": [],
   "source": [
    "cols = ['Phase', 'R2_train_slm', 'R2_val_slm', 'R2_train_ols', \n",
    "        'R2_val_ols', 'MAE_val_slm', 'MAE_val_ols', 'SLM', 'OLS']\n",
    "df_res_day   = pd.DataFrame(columns=cols)\n",
    "df_res_night = pd.DataFrame(columns=cols)"
   ]
  },
  {
   "cell_type": "code",
   "execution_count": null,
   "metadata": {},
   "outputs": [],
   "source": [
    "def trainSet(gdfF, cc, XVars, Yvars):\n",
    "    gdf_train = gdfF[~gdfF['UC_NM_MN'].isin(cc)].reset_index(drop=True)\n",
    "    #gdf_train = gdf_train[gdf_train['dist']>=0].reset_index(drop=True)\n",
    "    w_train = libpysal.weights.KNN.from_dataframe(gdf_train, k=4)\n",
    "    #w_train = libpysal.weights.Queen.from_dataframe(gdf_train)\n",
    "    w_train.transform = 'r'\n",
    "    x_train = gdf_train[XVars].values\n",
    "    y_day_train = gdf_train[Yvars[0]].values.reshape(-1, 1)\n",
    "    y_night_train = gdf_train[Yvars[1]].values.reshape(-1, 1)\n",
    "    return w_train, x_train, y_day_train, y_night_train\n",
    "\n",
    "count = 0\n",
    "for phase in range(0, 5):\n",
    "    cities_test = list(dfTest[dfTest['phase']==0]['UC_NM_MN'])\n",
    "    gdfF = gdf_all[~gdf_all['UC_NM_MN'].isin(cities_test)].reset_index(drop=True)\n",
    "    for subphase in range(0, 5):\n",
    "        subset = list(dfTV[(dfTV['phase']==phase) & ((dfTV['subphase']==subphase))]['UC_NM_MN'])\n",
    "        \n",
    "        ###################################################################################################\n",
    "        ####################### Training set ##############################################################\n",
    "        w_train, x_train, y_day_train, y_night_train = trainSet(gdfF, subset, predictor_vars, target_vars)\n",
    "        ####################### Day #######################################################################\n",
    "        slm_day = GM_Lag(y_day_train, x_train, w=w_train, \n",
    "                         name_y=target_vars[0], name_x=predictor_vars, spat_diag=True)\n",
    "        ols_day = OLS(y_day_train, x_train, w=w_train, \n",
    "                      name_y=target_vars[0], name_x=predictor_vars, spat_diag=True)\n",
    "\n",
    "        ####################### Night #####################################################################\n",
    "        slm_night = GM_Lag(y_night_train, x_train, w=w_train, \n",
    "                         name_y=target_vars[1], name_x=predictor_vars, spat_diag=True)\n",
    "        ols_night = OLS(y_night_train, x_train, w=w_train, \n",
    "                      name_y=target_vars[1], name_x=predictor_vars, spat_diag=True)\n",
    "\n",
    "\n",
    "        #####################################################################################################\n",
    "        ###################### Validation set ###############################################################\n",
    "        w_day_val, w_night_val, x_val, y_day_val, y_night_val =  valSet(gdfF, subset, \n",
    "                                                                        predictor_vars, target_vars)\n",
    "\n",
    "\n",
    "\n",
    "        ####################### Day ##########################################################################\n",
    "        ySLM_day = run_model_validation_s(x_val, w_day_val, slm_day)\n",
    "        yOls_day = run_model_validation_o(x_val, ols_day)\n",
    "\n",
    "        ####################### Night ##########################################################################\n",
    "        ySLM_night = run_model_validation_s(x_val, w_night_val, slm_night)\n",
    "        yOls_night = run_model_validation_o(x_val, ols_night)\n",
    "\n",
    "\n",
    "\n",
    "        data = [phase, slm_day.pr2, r2_score(ySLM_day, y_day_val), ols_day.r2, \n",
    "                r2_score(yOls_day, y_day_val), mean_absolute_error(ySLM_day, y_day_val), \n",
    "                mean_absolute_error(yOls_day, y_day_val),\n",
    "                slm_day.betas, ols_day.betas]\n",
    "        df_res_day = df_res_day.append(pd.DataFrame(columns=cols,data=[data]), ignore_index=True)\n",
    "\n",
    "        data = [phase, slm_night.pr2, r2_score(ySLM_night, y_night_val), ols_night.r2, \n",
    "                r2_score(yOls_night, y_night_val), mean_absolute_error(ySLM_night, y_night_val), \n",
    "                mean_absolute_error(yOls_night, y_night_val),\n",
    "                slm_night.betas, ols_night.betas]\n",
    "        df_res_night = df_res_night.append(pd.DataFrame(columns=cols,data=[data]), ignore_index=True)\n",
    "        print(r2_score(ySLM_day, y_day_val))\n",
    "        print(slm_day.betas.T)"
   ]
  },
  {
   "cell_type": "code",
   "execution_count": null,
   "metadata": {},
   "outputs": [],
   "source": []
  },
  {
   "cell_type": "code",
   "execution_count": null,
   "metadata": {},
   "outputs": [],
   "source": [
    "df_res_day.to_pickle('../data_revision/results/df_res_day.pkl')\n",
    "df_res_night.to_pickle('../data_revision/results/df_res_night.pkl')"
   ]
  }
 ],
 "metadata": {
  "kernelspec": {
   "display_name": "Python 3",
   "language": "python",
   "name": "python3"
  },
  "language_info": {
   "codemirror_mode": {
    "name": "ipython",
    "version": 3
   },
   "file_extension": ".py",
   "mimetype": "text/x-python",
   "name": "python",
   "nbconvert_exporter": "python",
   "pygments_lexer": "ipython3",
   "version": "3.8.10"
  }
 },
 "nbformat": 4,
 "nbformat_minor": 4
}
