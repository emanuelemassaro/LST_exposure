{
 "cells": [
  {
   "cell_type": "code",
   "execution_count": 1,
   "metadata": {},
   "outputs": [
    {
     "name": "stdout",
     "output_type": "stream",
     "text": [
      "Populating the interactive namespace from numpy and matplotlib\n"
     ]
    },
    {
     "data": {
      "text/html": [
       "<p>To authorize access needed by Earth Engine, open the following\n",
       "        URL in a web browser and follow the instructions:</p>\n",
       "        <p><a href=https://code.earthengine.google.com/client-auth?scopes=https%3A//www.googleapis.com/auth/earthengine%20https%3A//www.googleapis.com/auth/devstorage.full_control&request_id=lLxjdOu3bicz8SIgFkpcuF63DGUeaqTx71A7mxHBLXg&tc=XYjf7c2UVVQ6Fy1NkC1hYO-E4nyQdeSK9F9stdZRyNs&cc=6zeU-vQkdyQAFHroFsm0Af0obwlV7GPv4sltfHe7Olg>https://code.earthengine.google.com/client-auth?scopes=https%3A//www.googleapis.com/auth/earthengine%20https%3A//www.googleapis.com/auth/devstorage.full_control&request_id=lLxjdOu3bicz8SIgFkpcuF63DGUeaqTx71A7mxHBLXg&tc=XYjf7c2UVVQ6Fy1NkC1hYO-E4nyQdeSK9F9stdZRyNs&cc=6zeU-vQkdyQAFHroFsm0Af0obwlV7GPv4sltfHe7Olg</a></p>\n",
       "        <p>The authorization workflow will generate a code, which you\n",
       "        should paste in the box below</p>\n",
       "        "
      ],
      "text/plain": [
       "<IPython.core.display.HTML object>"
      ]
     },
     "metadata": {},
     "output_type": "display_data"
    },
    {
     "name": "stdout",
     "output_type": "stream",
     "text": [
      "Enter verification code: 4/1AWtgzh6Zi84y2SjD2PRTkKMcWUGDDYBx-hOp00asrIh0_xvB2cWVws8Dq8Q\n",
      "\n",
      "Successfully saved authorization token.\n"
     ]
    }
   ],
   "source": [
    "%config InlineBackend.figure_format = 'retina'\n",
    "%pylab inline\n",
    "import sys\n",
    "sys.path.insert(1, '../Codes/')\n",
    "from geeCodes import *\n",
    "\n",
    "\n",
    "import ee\n",
    "#earthengine authenticate\n",
    "ee.Authenticate()\n",
    "ee.Initialize()"
   ]
  },
  {
   "cell_type": "code",
   "execution_count": 2,
   "metadata": {},
   "outputs": [],
   "source": [
    "####### Compute thresholds\n",
    "dfc = gpd.read_file('../data_revision/cities/all/gdfCities.shp')\n",
    "dfc = dfc.to_crs(\"EPSG:4326\")\n",
    "cities = dfc['UC_NM_MN']\n",
    "years_str = []\n",
    "years = np.arange(2002,2022)\n",
    "for y in years:\n",
    "    years_str.append(str(y))\n"
   ]
  },
  {
   "cell_type": "code",
   "execution_count": 3,
   "metadata": {},
   "outputs": [],
   "source": [
    "def retutrnThreshold(day, scenario, geometry, datelist):\n",
    "    \n",
    "    if day == 'Day':\n",
    "        cols1 = ['LST_Day_1km', 'QC_Day']\n",
    "        cols2 = 'LST_Day_1km'\n",
    "    else:\n",
    "        cols1 = ['LST_Night_1km', 'QC_Night']\n",
    "        cols2 = 'LST_Night_1km'\n",
    "        \n",
    "    \n",
    "    if scenario == 1:\n",
    "        if day=='Day':\n",
    "            modis = ee.ImageCollection ('MODIS/006/MOD11A1').select(cols1)\\\n",
    "                  .map(toCelciusDay).filterBounds(geometry)\\\n",
    "                 .filter(ee.Filter.inList(\"system:time_start\", datelist)).map(QC_Day_mask)\n",
    "\n",
    "        \n",
    "        else:\n",
    "            modis = ee.ImageCollection ('MODIS/006/MOD11A1').select(cols1)\\\n",
    "                  .map(toCelciusNight).filterBounds(geometry)\\\n",
    "                  .filter(ee.Filter.inList(\"system:time_start\", datelist)).map(QC_Night_mask)\n",
    "        LST90 = ee.Image((modis.select(cols2)).reduce(ee.Reducer.percentile([90])))\n",
    "        \n",
    "        lst90 = LST90.reduceRegion(**{\n",
    "          'reducer': ee.Reducer.percentile([90]),\n",
    "          'geometry': geometry.getInfo(),\n",
    "          'scale': 1000,\n",
    "          'crs': 'EPSG:4326',\n",
    "        })\n",
    "        \n",
    "        return lst90.getInfo()['LST_%s_1km_p90'%day]\n",
    "    \n",
    "    elif scenario == 2:\n",
    "        if day=='Day':\n",
    "            modis = ee.ImageCollection ('MODIS/006/MOD11A1').select(cols1)\\\n",
    "                  .map(toCelciusDay).filterBounds(geometry)\\\n",
    "                 .filter(ee.Filter.inList(\"system:time_start\", datelist)).map(QC_Day_mask)\n",
    "\n",
    "        \n",
    "        else:\n",
    "            modis = ee.ImageCollection ('MODIS/006/MOD11A1').select(cols1)\\\n",
    "                  .map(toCelciusNight).filterBounds(geometry)\\\n",
    "                  .filter(ee.Filter.inList(\"system:time_start\", datelist)).map(QC_Night_mask)\n",
    "\n",
    "        LST90 = ee.Image((modis.select(cols2)).reduce(ee.Reducer.mean()))  ### Image\n",
    "        lst90 = LST90.reduceRegion(**{\n",
    "          'reducer': ee.Reducer.percentile([90]),\n",
    "          'geometry': geometry.getInfo(),\n",
    "          'scale': 1000,\n",
    "          'crs': 'EPSG:4326',\n",
    "        })\n",
    "\n",
    "        return lst90.getInfo()['LST_%s_1km_mean'%day]\n",
    "    \n",
    "    else:\n",
    "        if day=='Day':\n",
    "            modis = ee.ImageCollection ('MODIS/006/MOD11A1').select(cols1)\\\n",
    "              .map(toCelciusDay).filterBounds(geometry).filterDate(\"2002-01-01\", \"2023-01-01\").map(QC_Day_mask)\n",
    "        else:\n",
    "            modis = ee.ImageCollection ('MODIS/006/MOD11A1').select(cols1)\\\n",
    "              .map(toCelciusNight).filterBounds(geometry).filterDate(\"2002-01-01\", \"2023-01-01\").map(QC_Night_mask)\n",
    "            \n",
    "\n",
    "        LST90 = ee.Image((modis.select(cols2)).reduce(ee.Reducer.percentile([90])))\n",
    "        lst90 = LST90.reduceRegion(**{\n",
    "          'reducer': ee.Reducer.percentile([90]),\n",
    "          'geometry': geometry.getInfo(),\n",
    "          'scale': 1000,\n",
    "          'crs': 'EPSG:4326',\n",
    "        })\n",
    "        return lst90.getInfo()['LST_%s_1km_p90'%day]\n",
    "\n",
    "        \n"
   ]
  },
  {
   "cell_type": "code",
   "execution_count": null,
   "metadata": {},
   "outputs": [],
   "source": [
    "cols = ['city', 'Tr_day3', 'Tr_night3']\n",
    "dfTreshold = pd.DataFrame(columns=cols)"
   ]
  },
  {
   "cell_type": "code",
   "execution_count": null,
   "metadata": {},
   "outputs": [],
   "source": [
    "for idx in range(0,200):\n",
    "    city = cities[idx]\n",
    "    geo = dfc[dfc['UC_NM_MN']==city].reset_index(drop=True)\n",
    "    S = returnCityBoundary(geo)\n",
    "    \n",
    "    ####### GEE Geometry ###############################################\n",
    "    geometry = returnGeometry(S[0])\n",
    "    \n",
    "    # 2. Read temperature file\n",
    "    fileT = '../data_revision/cities/air_temperature/%s/temperature_new.csv'%city\n",
    "    dfT = pd.read_csv(fileT)\n",
    "    \n",
    "    ### GEE datelist\n",
    "    datelist = listHotDays(dfT, years_str)\n",
    "\n",
    "#    lst_day1 = retutrnThreshold('Day', 1, geometry, datelist)\n",
    "#    lst_night1 = retutrnThreshold('Night', 1, geometry, datelist)\n",
    "#    \n",
    "#    lst_day2 = retutrnThreshold('Day', 2, geometry, datelist)\n",
    "#    lst_night2 = retutrnThreshold('Night', 2, geometry, datelist)\n",
    "    \n",
    "    lst_day3 = retutrnThreshold('Day', 3, geometry, datelist)\n",
    "    lst_night3 = retutrnThreshold('Night', 3, geometry, datelist)\n",
    "    \n",
    "    \n",
    "    data = [city, lst_day3, lst_night3]\n",
    "    dfTreshold = dfTreshold.append(pd.DataFrame(columns=cols, data=[data]), ignore_index=True)\n",
    "    print(idx)"
   ]
  },
  {
   "cell_type": "code",
   "execution_count": null,
   "metadata": {},
   "outputs": [],
   "source": [
    "dfTreshold.to_csv('../data_revision/dfTreshold3.csv', index=None)"
   ]
  },
  {
   "cell_type": "code",
   "execution_count": null,
   "metadata": {},
   "outputs": [],
   "source": []
  }
 ],
 "metadata": {
  "kernelspec": {
   "display_name": "Python 3",
   "language": "python",
   "name": "python3"
  },
  "language_info": {
   "codemirror_mode": {
    "name": "ipython",
    "version": 3
   },
   "file_extension": ".py",
   "mimetype": "text/x-python",
   "name": "python",
   "nbconvert_exporter": "python",
   "pygments_lexer": "ipython3",
   "version": "3.8.10"
  }
 },
 "nbformat": 4,
 "nbformat_minor": 4
}
