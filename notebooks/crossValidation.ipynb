{
 "cells": [
  {
   "cell_type": "code",
   "execution_count": 1,
   "metadata": {},
   "outputs": [],
   "source": [
    "import pandas as pd\n",
    "import geopandas as gpd\n",
    "from sklearn.model_selection import KFold\n",
    "import pickle"
   ]
  },
  {
   "cell_type": "code",
   "execution_count": 2,
   "metadata": {},
   "outputs": [],
   "source": [
    "dfc = gpd.read_file('../data_revision/cities/all/gdfCities.shp')"
   ]
  },
  {
   "cell_type": "code",
   "execution_count": 3,
   "metadata": {},
   "outputs": [],
   "source": [
    "n_splits = 5\n",
    "kf = KFold(n_splits=n_splits, shuffle=True)\n",
    "climates = dfc['climate'].unique()            ### split by climate\n",
    "C = []\n",
    "for clima in climates:\n",
    "    V=[]\n",
    "    tmp = dfc[dfc['climate']==clima].reset_index(drop=True)\n",
    "    tmp = tmp.sort_values('PopDens', ascending=False).reset_index(drop=True)\n",
    "    for train_index, val_index in kf.split(tmp.PopDens):\n",
    "        V.append(tmp[tmp.index.isin(val_index)])\n",
    "    C.append(V)"
   ]
  },
  {
   "cell_type": "code",
   "execution_count": 4,
   "metadata": {},
   "outputs": [],
   "source": [
    "############ Test phase ###################\n",
    "df = pd.DataFrame()\n",
    "cities_ = []\n",
    "for j in range(0,5):\n",
    "    cities = []\n",
    "    for i in range(0, 4):\n",
    "        cities.extend(list(C[i][j]['UC_NM_MN']))\n",
    "    cities_.append(cities)"
   ]
  },
  {
   "cell_type": "code",
   "execution_count": 5,
   "metadata": {},
   "outputs": [],
   "source": [
    "############## Trainig validation ##############\n",
    "n_splits = 5\n",
    "kf = KFold(n_splits=n_splits, shuffle=True)\n",
    "cities_tv = []\n",
    "for phase, c in enumerate(cities_):\n",
    "    V = []\n",
    "    gdfF = dfc[~dfc['UC_NM_MN'].isin(c)].reset_index(drop=True)\n",
    "    tmp = gdfF.sort_values('PopDens', ascending=False).reset_index(drop=True)\n",
    "    for train_index, val_index in kf.split(tmp.PopDens):\n",
    "        V.append(tmp[tmp.index.isin(val_index)])\n",
    "    \n",
    "    for v in range(0,len(V)):\n",
    "        cities = list(V[v]['UC_NM_MN'])\n",
    "        cities_tv.append(cities)"
   ]
  },
  {
   "cell_type": "code",
   "execution_count": 6,
   "metadata": {},
   "outputs": [],
   "source": [
    "with open('../data_revision/cities/cv/test.pkl', 'wb') as f:\n",
    "    pickle.dump(cities_, f)"
   ]
  },
  {
   "cell_type": "code",
   "execution_count": 7,
   "metadata": {},
   "outputs": [],
   "source": [
    "with open('../data_revision/cities/cv/train_val.pkl', 'wb') as f:\n",
    "    pickle.dump(cities_tv, f)"
   ]
  },
  {
   "cell_type": "code",
   "execution_count": null,
   "metadata": {},
   "outputs": [],
   "source": []
  }
 ],
 "metadata": {
  "kernelspec": {
   "display_name": "Python 3",
   "language": "python",
   "name": "python3"
  },
  "language_info": {
   "codemirror_mode": {
    "name": "ipython",
    "version": 3
   },
   "file_extension": ".py",
   "mimetype": "text/x-python",
   "name": "python",
   "nbconvert_exporter": "python",
   "pygments_lexer": "ipython3",
   "version": "3.8.10"
  }
 },
 "nbformat": 4,
 "nbformat_minor": 4
}
