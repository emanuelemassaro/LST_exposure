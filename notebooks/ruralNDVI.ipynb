{
 "cells": [
  {
   "cell_type": "code",
   "execution_count": 1,
   "metadata": {},
   "outputs": [
    {
     "name": "stdout",
     "output_type": "stream",
     "text": [
      "Warning: ecCodes 2.21.0 or higher is recommended. You are running version 2.18.0\n"
     ]
    }
   ],
   "source": [
    "import sys\n",
    "sys.path.insert(1, '../codes/')\n",
    "from myUtils import *\n",
    "from geeCodes import *"
   ]
  },
  {
   "cell_type": "code",
   "execution_count": 2,
   "metadata": {},
   "outputs": [],
   "source": [
    "########################## Read city file ###########################################\n",
    "dfc = gpd.read_file('../data_revision/cities/all/gdfCities.shp')\n",
    "dfc = dfc.to_crs(\"EPSG:4326\")\n",
    "############################ Read SUHi #######################################\n",
    "dfSUHI = pd.read_csv('../data_revision/SUHI/dfSUHI.csv')\n",
    "DFC = pd.DataFrame()\n",
    "DFC['SUHI'] = dfSUHI['suhi']\n",
    "DFC['ruralNDVI'] = 0.0"
   ]
  },
  {
   "cell_type": "code",
   "execution_count": null,
   "metadata": {},
   "outputs": [],
   "source": [
    "################################# Rural NDVI ###################################################\n",
    "for i in range(0,200):\n",
    "    geo = dfc[dfc.index==i]\n",
    "    S = returnCityBoundary(geo)\n",
    "    gdf = gpd.read_file('../data_revision/GEE_dataframes/gdf_%d.shp'%i)\n",
    "    bounds = S[0]\n",
    "    \n",
    "    tmp = bounds['geometry'][0]\n",
    "    tmp1 = geo['geometry'][i]\n",
    "    tmp2 = tmp.difference(tmp1)\n",
    "    gdfRural =  gpd.GeoDataFrame(index=[0], crs=bounds.crs, geometry=[tmp2])\n",
    "    gdfRural = gpd.sjoin(gdf, gdfRural)\n",
    "    gdfRural = gdfRural[gdfRural['NDVI']>=-1]\n",
    "    DFC['ruralNDVI'][i] = gdfRural['NDVI'].mean()"
   ]
  },
  {
   "cell_type": "code",
   "execution_count": null,
   "metadata": {},
   "outputs": [],
   "source": [
    "DFC.to_csv('../data_revision/various/DFC.csv', index=None)"
   ]
  }
 ],
 "metadata": {
  "kernelspec": {
   "display_name": "Python 3",
   "language": "python",
   "name": "python3"
  },
  "language_info": {
   "codemirror_mode": {
    "name": "ipython",
    "version": 3
   },
   "file_extension": ".py",
   "mimetype": "text/x-python",
   "name": "python",
   "nbconvert_exporter": "python",
   "pygments_lexer": "ipython3",
   "version": "3.8.10"
  }
 },
 "nbformat": 4,
 "nbformat_minor": 4
}
