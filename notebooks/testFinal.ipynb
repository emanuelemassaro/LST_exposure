{
 "cells": [
  {
   "cell_type": "code",
   "execution_count": 1,
   "metadata": {},
   "outputs": [
    {
     "name": "stdout",
     "output_type": "stream",
     "text": [
      "Populating the interactive namespace from numpy and matplotlib\n",
      "Warning: ecCodes 2.21.0 or higher is recommended. You are running version 2.18.0\n"
     ]
    }
   ],
   "source": [
    "%config InlineBackend.figure_format = 'retina'\n",
    "%pylab inline\n",
    "### Libraries \n",
    "import warnings\n",
    "warnings.filterwarnings('ignore')\n",
    "import sys\n",
    "sys.path.insert(1, '../codes/')\n",
    "from myUtils import *"
   ]
  },
  {
   "cell_type": "code",
   "execution_count": 4,
   "metadata": {},
   "outputs": [],
   "source": [
    "dfTV_day = pd.read_pickle('../data_revision/results/df_res_day_new.pkl')\n",
    "dfTV_night = pd.read_pickle('../data_revision/results/df_res_night_new.pkl')\n",
    "dfc = gpd.read_file('../data_revision/cities/all/gdfCities.shp')"
   ]
  },
  {
   "cell_type": "code",
   "execution_count": 18,
   "metadata": {},
   "outputs": [],
   "source": [
    "############## Define Betas ##########################################\n",
    "phases = [0,1,2,3,4]\n",
    "betas_day = []\n",
    "betas_night = []\n",
    "for phase in phases:\n",
    "    tmp = dfTV_day[dfTV_day['Phase']==phase].reset_index(drop=True)\n",
    "    idx = np.where(tmp['R2_val_slm']==tmp['R2_val_slm'].max())[0][0]\n",
    "    betas_day.append(tmp['SLM'][idx])\n",
    "    \n",
    "    tmp = dfTV_night[dfTV_night['Phase']==phase].reset_index(drop=True)\n",
    "    idx = np.where(tmp['R2_val_slm']==tmp['R2_val_slm'].max())[0][0]\n",
    "    betas_night.append(tmp['SLM'][idx])\n",
    "    "
   ]
  },
  {
   "cell_type": "code",
   "execution_count": 19,
   "metadata": {},
   "outputs": [],
   "source": [
    "betasDay = np.mean(betas_day, axis=0)\n",
    "betasNight = np.mean(betas_night, axis=0)"
   ]
  },
  {
   "cell_type": "code",
   "execution_count": 22,
   "metadata": {},
   "outputs": [],
   "source": [
    "######### Load datasets for cross validation\n",
    "dfTV = pd.read_pickle('../data_revision/cities/cv/df_train_val.pkl')\n",
    "dfTest = pd.read_pickle('../data_revision/cities/cv/df_test.pkl')"
   ]
  },
  {
   "cell_type": "code",
   "execution_count": 23,
   "metadata": {},
   "outputs": [],
   "source": [
    "idx = np.arange(0,200)\n",
    "gdf_all = pd.DataFrame()\n",
    "for ii in idx:\n",
    "    gdf = gpd.read_file('../data_revision/GEE_dataframes/gdf_%d.shp'%ii)\n",
    "    gdf =  gdf.set_crs('epsg:4326')\n",
    "    gdf = gdf.to_crs(\"ESRI:54009\")\n",
    "    gdf['dist'] = -gdf['dist']\n",
    "    gdf = gdf[gdf['dist']>0]\n",
    "    gdf['dist_n'] = 1/(gdf['dist']**2)\n",
    "    gdf['dist_n'] = norm01(gdf, 'dist_n')\n",
    "    gdf = gdf[gdf['NDVI']>=-1]\n",
    "    gdf = gdf[gdf['NDBI']>=-1].reset_index(drop=True)\n",
    "    gdf['hot_days']=gdf['hot_days']/11\n",
    "    gdf['hot_nights']=gdf['hot_nights']/11\n",
    "    gdf_all = gdf_all.append(gdf, ignore_index=True)"
   ]
  },
  {
   "cell_type": "code",
   "execution_count": 27,
   "metadata": {},
   "outputs": [
    {
     "name": "stdout",
     "output_type": "stream",
     "text": [
      "0.6257626397028182\n",
      "0.5633620964090726\n",
      "0.6224962812818711\n",
      "0.5673660135376675\n",
      "0.5896196704455511\n"
     ]
    }
   ],
   "source": [
    "target_vars = ['hot_days', 'hot_nights']\n",
    "predictor_vars = ['NDVI', 'dist_n']\n",
    "target_var = target_vars[0]\n",
    "cols = ['R2', 'betas']\n",
    "dftest_day = pd.DataFrame(columns=cols)\n",
    "phases = dfTest['phase'].unique()\n",
    "for phase in phases:\n",
    "    c = list(dfTest[dfTest['phase']==phase]['UC_NM_MN'])\n",
    "    gdf_test = gdf_all[gdf_all['city'].isin(c)].reset_index(drop=True)\n",
    "    w_test = libpysal.weights.KNN.from_dataframe(gdf_test, k=8)\n",
    "    w_test.transform = 'r'\n",
    "    w_test = libpysal.weights.lag_spatial(w_test, gdf_test[target_var])\n",
    "    x_test = gdf_test[predictor_vars].values\n",
    "    constant = sm.add_constant(np.hstack((x_test,np.array(w_test).reshape(-1,1))))\n",
    "    ytest_  = np.sum(constant * (betasDay.T), axis=1).reshape((-1, 1))\n",
    "\n",
    "    print(r2_score(ytest_, gdf_test[target_var]))\n",
    "    data = [r2_score(ytest_, gdf_test[target_var]), betasDay.T]\n",
    "    dftest_day = dftest_day.append(pd.DataFrame(columns=cols,data=[data]),ignore_index=True)"
   ]
  },
  {
   "cell_type": "code",
   "execution_count": 28,
   "metadata": {},
   "outputs": [
    {
     "name": "stdout",
     "output_type": "stream",
     "text": [
      "0.8894906496981672\n",
      "0.864373667815349\n",
      "0.872946277922001\n",
      "0.8894827531307669\n",
      "0.8652352175240821\n"
     ]
    }
   ],
   "source": [
    "predictor_vars = ['NDVI', 'dist_n']\n",
    "target_var = target_vars[1]\n",
    "cols = ['R2', 'betas']\n",
    "dftest_night = pd.DataFrame(columns=cols)\n",
    "phases = dfTest['phase'].unique()\n",
    "for phase in phases:\n",
    "    c = list(dfTest[dfTest['phase']==phase]['UC_NM_MN'])\n",
    "    gdf_test = gdf_all[gdf_all['city'].isin(c)].reset_index(drop=True)\n",
    "    w_test = libpysal.weights.KNN.from_dataframe(gdf_test, k=8)\n",
    "    w_test.transform = 'r'\n",
    "    w_test = libpysal.weights.lag_spatial(w_test, gdf_test[target_var])\n",
    "    x_test = gdf_test[predictor_vars].values\n",
    "    constant = sm.add_constant(np.hstack((x_test,np.array(w_test).reshape(-1,1))))\n",
    "    ytest_  = np.sum(constant * (betasNight.T), axis=1).reshape((-1, 1))\n",
    "\n",
    "    print(r2_score(ytest_, gdf_test[target_var]))\n",
    "    data = [r2_score(ytest_, gdf_test[target_var]), betasNight.T]\n",
    "    dftest_night =dftest_night.append(pd.DataFrame(columns=cols,data=[data]),ignore_index=True)"
   ]
  },
  {
   "cell_type": "code",
   "execution_count": 31,
   "metadata": {},
   "outputs": [],
   "source": [
    "dftest_day.to_pickle('../data_revision/results/dftest_day_new.pkl')\n",
    "dftest_night.to_pickle('../data_revision/results/dftest_night_new.pkl')"
   ]
  },
  {
   "cell_type": "code",
   "execution_count": 33,
   "metadata": {},
   "outputs": [
    {
     "data": {
      "text/plain": [
       "array([[ 3.64209653, -4.67311115, -1.16021593,  0.62546181]])"
      ]
     },
     "execution_count": 33,
     "metadata": {},
     "output_type": "execute_result"
    }
   ],
   "source": [
    "betasDay.T"
   ]
  },
  {
   "cell_type": "code",
   "execution_count": 34,
   "metadata": {},
   "outputs": [
    {
     "data": {
      "text/plain": [
       "array([[ 2.23640437, -2.68122998, -0.59718829,  0.79733414]])"
      ]
     },
     "execution_count": 34,
     "metadata": {},
     "output_type": "execute_result"
    }
   ],
   "source": [
    "betasNight.T"
   ]
  },
  {
   "cell_type": "code",
   "execution_count": null,
   "metadata": {},
   "outputs": [],
   "source": []
  }
 ],
 "metadata": {
  "kernelspec": {
   "display_name": "Python 3",
   "language": "python",
   "name": "python3"
  },
  "language_info": {
   "codemirror_mode": {
    "name": "ipython",
    "version": 3
   },
   "file_extension": ".py",
   "mimetype": "text/x-python",
   "name": "python",
   "nbconvert_exporter": "python",
   "pygments_lexer": "ipython3",
   "version": "3.8.10"
  }
 },
 "nbformat": 4,
 "nbformat_minor": 4
}
