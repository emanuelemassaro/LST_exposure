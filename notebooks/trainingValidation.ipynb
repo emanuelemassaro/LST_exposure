{
 "cells": [
  {
   "cell_type": "code",
   "execution_count": 1,
   "metadata": {},
   "outputs": [
    {
     "name": "stdout",
     "output_type": "stream",
     "text": [
      "Populating the interactive namespace from numpy and matplotlib\n",
      "Warning: ecCodes 2.21.0 or higher is recommended. You are running version 2.18.0\n"
     ]
    }
   ],
   "source": [
    "#### ###\n",
    "%config InlineBackend.figure_format = 'retina'\n",
    "%pylab inline\n",
    "import sys\n",
    "sys.path.insert(1, '../codes/')\n",
    "from geeCodes import *\n",
    "from myUtils import *\n",
    "from sklearn.preprocessing import MinMaxScaler"
   ]
  },
  {
   "cell_type": "code",
   "execution_count": 2,
   "metadata": {},
   "outputs": [],
   "source": [
    "dfc = gpd.read_file('../data_revision/cities/all/gdfCities.shp')\n",
    "dfc = dfc.to_crs(\"EPSG:4326\")\n",
    "target_vars = ['hot_days', 'hot_nights']"
   ]
  },
  {
   "cell_type": "code",
   "execution_count": 6,
   "metadata": {},
   "outputs": [
    {
     "name": "stdout",
     "output_type": "stream",
     "text": [
      "<class 'geopandas.geodataframe.GeoDataFrame'>\n",
      "RangeIndex: 3959 entries, 0 to 3958\n",
      "Data columns (total 12 columns):\n",
      " #   Column      Non-Null Count  Dtype   \n",
      "---  ------      --------------  -----   \n",
      " 0   hot_days    3959 non-null   int64   \n",
      " 1   lat         3959 non-null   float64 \n",
      " 2   lon         3959 non-null   float64 \n",
      " 3   hot_nights  3959 non-null   int64   \n",
      " 4   NDVI        3959 non-null   float64 \n",
      " 5   NDBI        3959 non-null   float64 \n",
      " 6   Albedo_BSA  3959 non-null   float64 \n",
      " 7   Albedo_WSA  3959 non-null   float64 \n",
      " 8   dist        3959 non-null   float64 \n",
      " 9   pop         3959 non-null   float64 \n",
      " 10  city        3959 non-null   object  \n",
      " 11  geometry    3959 non-null   geometry\n",
      "dtypes: float64(8), geometry(1), int64(2), object(1)\n",
      "memory usage: 371.3+ KB\n"
     ]
    }
   ],
   "source": [
    "gdf.info()"
   ]
  },
  {
   "cell_type": "code",
   "execution_count": 10,
   "metadata": {},
   "outputs": [
    {
     "name": "stdout",
     "output_type": "stream",
     "text": [
      "-999.0\n"
     ]
    }
   ],
   "source": [
    "idx = np.arange(2,3)\n",
    "gdf_all = pd.DataFrame()\n",
    "for ii in idx:\n",
    "    gdf = gpd.read_file('../data_revision/GEE_dataframes/gdf_%d.shp'%ii)\n",
    "    print(gdf['NDVI'].min())\n",
    "    gdf =  gdf.set_crs('epsg:4326')\n",
    "    gdf = gdf.to_crs(\"ESRI:54009\")\n",
    "    \n",
    "    gdf['dist'] = -gdf['dist']\n",
    "    gdf = gdf[gdf['dist']>0]\n",
    "    gdf['dist_n'] = 1/(gdf['dist']**2)\n",
    "    gdf['dist_n'] = norm01(gdf, 'dist_n')\n",
    "    gdf = gdf[gdf['NDVI']>=-1]\n",
    "    gdf = gdf[gdf['NDBI']>=-1].reset_index(drop=True)\n",
    "    gdf['hot_days']=gdf['hot_days']/11\n",
    "    gdf['hot_nights']=gdf['hot_nights']/11\n",
    "    gdf_all = gdf_all.append(gdf, ignore_index=True)"
   ]
  },
  {
   "cell_type": "code",
   "execution_count": null,
   "metadata": {},
   "outputs": [],
   "source": [
    "w_train = libpysal.weights.KNN.from_dataframe(gdf_all, k=8)\n",
    "w_train.transform = 'r'"
   ]
  },
  {
   "cell_type": "code",
   "execution_count": null,
   "metadata": {},
   "outputs": [],
   "source": [
    "y_day_train = gdf_all[target_vars[0]].values.reshape(-1, 1)\n",
    "predictor_vars = ['NDVI', 'dist_n']\n",
    "y_day_train = gdf_all[target_vars[0]].values.reshape(-1, 1)\n",
    "x_train = gdf_all[predictor_vars].values\n",
    "slm_day = GM_Lag(y_day_train, x_train, w=w_train, \n",
    "                     name_y=target_vars[0], name_x=predictor_vars, spat_diag=True)"
   ]
  },
  {
   "cell_type": "code",
   "execution_count": null,
   "metadata": {},
   "outputs": [],
   "source": [
    "print(slm_day.summary)"
   ]
  },
  {
   "cell_type": "code",
   "execution_count": null,
   "metadata": {},
   "outputs": [],
   "source": [
    "##################### Training Validation ###########################################\n",
    "\n",
    "\n",
    "######### Load datasets for cross validation\n",
    "dfTV = pd.read_pickle('../data_revision/cities/cv/df_train_val.pkl')\n",
    "dfTest = pd.read_pickle('../data_revision/cities/cv/df_test.pkl')\n",
    "dfc = gpd.read_file('../data_revision/cities/all/gdfCities.shp')"
   ]
  },
  {
   "cell_type": "code",
   "execution_count": null,
   "metadata": {},
   "outputs": [],
   "source": [
    "def valSet(gdfF, cc, XVars, Yvars):\n",
    "    gdf_val = gdfF[gdfF['city'].isin(cc)].reset_index(drop=True)    \n",
    "    y_day_val = gdf_val[Yvars[0]].values.reshape(-1, 1)\n",
    "    y_night_val= gdf_val[Yvars[1]].values.reshape(-1, 1)\n",
    "    x_val = gdf_val[XVars].values\n",
    "    \n",
    "    ### Scale #################################################\n",
    "    #scaler = StandardScaler()\n",
    "    #scaler.fit(y_day_val)\n",
    "    #y_day_val = scaler.transform(y_day_val)\n",
    "    \n",
    "    #scaler0 = StandardScaler()\n",
    "    #scaler0.fit(y_night_val)\n",
    "    #y_night_val = scaler0.transform(y_night_val)\n",
    "\n",
    "    #scaler1 = StandardScaler()\n",
    "    #scaler1.fit(x_val)\n",
    "    #x_val = scaler1.transform(x_val)\n",
    "    \n",
    "    \n",
    "    w_val = libpysal.weights.KNN.from_dataframe(gdf_val, k=8)\n",
    "    w_val.transform = 'r'\n",
    "    w_day_val   = libpysal.weights.lag_spatial(w_val, y_day_val)\n",
    "    w_night_val = libpysal.weights.lag_spatial(w_val, y_night_val)\n",
    "    return w_day_val, w_night_val, x_val, y_day_val, y_night_val\n",
    "\n",
    "\n",
    "def trainSet(gdfF, cc, XVars, Yvars):\n",
    "    gdf_train = gdfF[~gdfF['city'].isin(cc)].reset_index(drop=True)\n",
    "    w_train = libpysal.weights.KNN.from_dataframe(gdf_train, k=8)\n",
    "    w_train.transform = 'r'\n",
    "    \n",
    "    x_train = gdf_train[XVars].values\n",
    "    y_day_train = gdf_train[Yvars[0]].values.reshape(-1, 1)\n",
    "    y_night_train = gdf_train[Yvars[1]].values.reshape(-1, 1)\n",
    "        \n",
    "    ### Scale #################################################\n",
    "    #scaler = StandardScaler()\n",
    "    #scaler.fit(y_day_train)\n",
    "    #y_day_train = scaler.transform(y_day_train)\n",
    "    \n",
    "    #scaler0 = StandardScaler()\n",
    "    #scaler0.fit(y_night_train)\n",
    "    #y_night_train = scaler0.transform(y_night_train)\n",
    "\n",
    "    #scaler1 = StandardScaler()\n",
    "    #scaler1.fit(x_train)\n",
    "    #x_train = scaler1.transform(x_train)\n",
    "\n",
    "    return w_train, x_train, y_day_train, y_night_train\n",
    "\n",
    "def run_model_validation_s(x_, w, model):\n",
    "    val = sm.add_constant(np.hstack((x_, np.array(w).reshape(-1, 1))))\n",
    "    return np.sum(val * model.betas.T, axis=1).reshape((-1, 1))\n",
    "\n",
    "def run_model_validation_o(x_, model):\n",
    "    val = sm.add_constant(x_)\n",
    "    return np.sum(val* model.betas.T, axis=1).reshape((-1, 1))\n",
    "\n",
    "\n",
    "from sklearn.metrics import mean_absolute_error, r2_score\n",
    "from sklearn.preprocessing import StandardScaler"
   ]
  },
  {
   "cell_type": "code",
   "execution_count": null,
   "metadata": {},
   "outputs": [],
   "source": [
    "count = 0\n",
    "cols = ['Phase', 'R2_train_slm', 'R2_val_slm', 'R2_train_ols', \n",
    "        'R2_val_ols', 'MAE_val_slm', 'MAE_val_ols', 'SLM', 'OLS']\n",
    "df_res_day   = pd.DataFrame(columns=cols)\n",
    "df_res_night = pd.DataFrame(columns=cols)\n",
    "for phase in range(0, 5):\n",
    "    cities_test = list(dfTest[dfTest['phase']==phase]['UC_NM_MN'])\n",
    "    gdfF = gdf_all[~gdf_all['city'].isin(cities_test)].reset_index(drop=True)\n",
    "    for subphase in range(0, 5):\n",
    "        count+=1\n",
    "        subset = list(dfTV[(dfTV['phase']==phase) & ((dfTV['subphase']==subphase))]['UC_NM_MN'])\n",
    "        \n",
    "        \n",
    "        ###################################################################################################\n",
    "        ####################### Training set ##############################################################\n",
    "        w_train, x_train, y_day_train, y_night_train = trainSet(gdfF, subset, predictor_vars, target_vars)\n",
    "\n",
    "\n",
    "        ####################### Day #######################################################################\n",
    "        slm_day = GM_Lag(y_day_train, x_train, w=w_train, \n",
    "                         name_y=target_vars[0], name_x=predictor_vars, spat_diag=True)\n",
    "        ols_day = OLS(y_day_train, x_train, w=w_train, \n",
    "                      name_y=target_vars[0], name_x=predictor_vars, spat_diag=True)\n",
    "\n",
    "        ####################### Night #####################################################################\n",
    "        slm_night = GM_Lag(y_night_train, x_train, w=w_train, \n",
    "                         name_y=target_vars[1], name_x=predictor_vars, spat_diag=True)\n",
    "        ols_night = OLS(y_night_train, x_train, w=w_train, \n",
    "                      name_y=target_vars[1], name_x=predictor_vars, spat_diag=True)\n",
    "\n",
    "\n",
    "        #####################################################################################################\n",
    "        ###################### Validation set ###############################################################\n",
    "        w_day_val, w_night_val, x_val, y_day_val, y_night_val =  valSet(gdfF, subset, \n",
    "                                                                        predictor_vars, target_vars)\n",
    "\n",
    "\n",
    "\n",
    "        ####################### Day ##########################################################################\n",
    "        ySLM_day = run_model_validation_s(x_val, w_day_val, slm_day)\n",
    "        yOls_day = run_model_validation_o(x_val, ols_day)\n",
    "\n",
    "        ####################### Night ##########################################################################\n",
    "        ySLM_night = run_model_validation_s(x_val, w_night_val, slm_night)\n",
    "        yOls_night = run_model_validation_o(x_val, ols_night)\n",
    "\n",
    "\n",
    "\n",
    "        data = [phase, slm_day.pr2, r2_score(ySLM_day, y_day_val), ols_day.r2, \n",
    "                r2_score(yOls_day, y_day_val), mean_absolute_error(ySLM_day, y_day_val), \n",
    "                mean_absolute_error(yOls_day, y_day_val),\n",
    "                slm_day.betas, ols_day.betas]\n",
    "        df_res_day = df_res_day.append(pd.DataFrame(columns=cols,data=[data]), ignore_index=True)\n",
    "\n",
    "        data = [phase, slm_night.pr2, r2_score(ySLM_night, y_night_val), ols_night.r2, \n",
    "                r2_score(yOls_night, y_night_val), mean_absolute_error(ySLM_night, y_night_val), \n",
    "                mean_absolute_error(yOls_night, y_night_val),\n",
    "                slm_night.betas, ols_night.betas]\n",
    "        df_res_night = df_res_night.append(pd.DataFrame(columns=cols,data=[data]), ignore_index=True)\n",
    "        end = time.time()\n",
    "        print(r2_score(ySLM_night, y_night_val))\n",
    "        print(r2_score(ySLM_day, y_day_val))\n",
    "        print(slm_night.betas.T)\n",
    "        print(slm_day.betas.T)   "
   ]
  },
  {
   "cell_type": "code",
   "execution_count": null,
   "metadata": {},
   "outputs": [],
   "source": [
    "df_res_day.to_pickle('../data_revision/results/df_res_day_new.pkl')\n",
    "df_res_night.to_pickle('../data_revision/results/df_res_night_new.pkl')"
   ]
  },
  {
   "cell_type": "code",
   "execution_count": null,
   "metadata": {},
   "outputs": [],
   "source": []
  }
 ],
 "metadata": {
  "kernelspec": {
   "display_name": "Python 3",
   "language": "python",
   "name": "python3"
  },
  "language_info": {
   "codemirror_mode": {
    "name": "ipython",
    "version": 3
   },
   "file_extension": ".py",
   "mimetype": "text/x-python",
   "name": "python",
   "nbconvert_exporter": "python",
   "pygments_lexer": "ipython3",
   "version": "3.8.10"
  }
 },
 "nbformat": 4,
 "nbformat_minor": 4
}
